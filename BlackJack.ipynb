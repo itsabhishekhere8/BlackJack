{
 "cells": [
  {
   "cell_type": "code",
   "execution_count": 3,
   "id": "4bff597e-86a4-40e6-9d76-782a81cf0fb5",
   "metadata": {},
   "outputs": [
    {
     "name": "stdout",
     "output_type": "stream",
     "text": [
      "Welcome to Blackjack!\n",
      "Your cards: [5, 10], current score: 15\n",
      "Dealer's first card: 4\n"
     ]
    },
    {
     "name": "stdin",
     "output_type": "stream",
     "text": [
      "Type 'y' to get another card, 'n' to pass:  y\n"
     ]
    },
    {
     "name": "stdout",
     "output_type": "stream",
     "text": [
      "Your cards: [5, 10, 4], current score: 19\n",
      "Dealer's first card: 4\n"
     ]
    },
    {
     "name": "stdin",
     "output_type": "stream",
     "text": [
      "Type 'y' to get another card, 'n' to pass:  n\n"
     ]
    },
    {
     "name": "stdout",
     "output_type": "stream",
     "text": [
      "Your final hand: [5, 10, 4], final score: 19\n",
      "Dealer's final hand: [4, 4, 2, 10], final score: 20\n",
      "You lose!\n"
     ]
    }
   ],
   "source": [
    "import random\n",
    "\n",
    "def deal_card():\n",
    "    \"\"\"Return a random card from the deck.\"\"\"\n",
    "    cards = [11, 2, 3, 4, 5, 6, 7, 8, 9, 10, 10, 10, 10]\n",
    "    return random.choice(cards)\n",
    "\n",
    "def calculate_score(cards):\n",
    "    \"\"\"Calculate the total score of a hand of cards.\"\"\"\n",
    "    if sum(cards) == 21 and len(cards) == 2:\n",
    "        return 0  # Blackjack\n",
    "    if 11 in cards and sum(cards) > 21:\n",
    "        cards.remove(11)\n",
    "        cards.append(1)\n",
    "    return sum(cards)\n",
    "\n",
    "def compare(user_score, dealer_score):\n",
    "    \"\"\"Compare the scores and determine the winner.\"\"\"\n",
    "    if user_score > 21 and dealer_score > 21:\n",
    "        return \"You went over. You lose!\"\n",
    "    if user_score == dealer_score:\n",
    "        return \"It's a draw!\"\n",
    "    elif dealer_score == 0:\n",
    "        return \"Dealer has Blackjack. You lose!\"\n",
    "    elif user_score == 0:\n",
    "        return \"Blackjack! You win!\"\n",
    "    elif user_score > 21:\n",
    "        return \"You went over. You lose!\"\n",
    "    elif dealer_score > 21:\n",
    "        return \"Dealer went over. You win!\"\n",
    "    elif user_score > dealer_score:\n",
    "        return \"You win!\"\n",
    "    else:\n",
    "        return \"You lose!\"\n",
    "\n",
    "def play_game():\n",
    "    print(\"Welcome to Blackjack!\")\n",
    "\n",
    "    # Deal initial cards\n",
    "    user_cards = [deal_card(), deal_card()]\n",
    "    dealer_cards = [deal_card(), deal_card()]\n",
    "\n",
    "    game_over = False\n",
    "\n",
    "    while not game_over:\n",
    "        user_score = calculate_score(user_cards)\n",
    "        dealer_score = calculate_score(dealer_cards)\n",
    "\n",
    "        print(f\"Your cards: {user_cards}, current score: {user_score}\")\n",
    "        print(f\"Dealer's first card: {dealer_cards[0]}\")\n",
    "\n",
    "        if user_score == 0 or dealer_score == 0 or user_score > 21:\n",
    "            game_over = True\n",
    "        else:\n",
    "            should_continue = input(\"Type 'y' to get another card, 'n' to pass: \").lower()\n",
    "            if should_continue == 'y':\n",
    "                user_cards.append(deal_card())\n",
    "            else:\n",
    "                game_over = True\n",
    "\n",
    "    # Dealer's turn\n",
    "    while dealer_score != 0 and dealer_score < 17:\n",
    "        dealer_cards.append(deal_card())\n",
    "        dealer_score = calculate_score(dealer_cards)\n",
    "\n",
    "    print(f\"Your final hand: {user_cards}, final score: {user_score}\")\n",
    "    print(f\"Dealer's final hand: {dealer_cards}, final score: {dealer_score}\")\n",
    "\n",
    "    result = compare(user_score, dealer_score)\n",
    "    print(result)\n",
    "\n",
    "# Start the game\n",
    "play_game()"
   ]
  },
  {
   "cell_type": "code",
   "execution_count": null,
   "id": "aa019548-f00e-43db-beae-2f880aac9d5e",
   "metadata": {},
   "outputs": [],
   "source": []
  },
  {
   "cell_type": "code",
   "execution_count": null,
   "id": "26dea72b-1891-4f8c-9ad6-e908d788fdc5",
   "metadata": {},
   "outputs": [],
   "source": []
  }
 ],
 "metadata": {
  "kernelspec": {
   "display_name": "Python 3 (ipykernel)",
   "language": "python",
   "name": "python3"
  },
  "language_info": {
   "codemirror_mode": {
    "name": "ipython",
    "version": 3
   },
   "file_extension": ".py",
   "mimetype": "text/x-python",
   "name": "python",
   "nbconvert_exporter": "python",
   "pygments_lexer": "ipython3",
   "version": "3.12.1"
  }
 },
 "nbformat": 4,
 "nbformat_minor": 5
}
